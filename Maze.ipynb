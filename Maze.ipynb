{
 "cells": [
  {
   "cell_type": "code",
   "execution_count": null,
   "id": "01ba2e1c",
   "metadata": {},
   "outputs": [],
   "source": [
    "class Solution:\n",
    "    def hashPath(self, maze: list, start: list, destination: list):\n",
    "        # Get the number of rows and columns in the maze grid\n",
    "        rows, columns = len(maze), len(maze[0])\n",
    "\n",
    "        # Create a set to keep track of visited positions during DFS\n",
    "        visited = set()\n",
    "\n",
    "        # Define the DFS function with parameters (x, y) representing the current position\n",
    "        def dfs(x, y):\n",
    "            # If the current position (x, y) is already visited, return False\n",
    "            if (x, y) in visited:\n",
    "                return False\n",
    "\n",
    "            # Mark the current position as visited\n",
    "            visited.add((x, y))\n",
    "\n",
    "            # If the current position is the destination point, return True\n",
    "            if [x, y] == destination:\n",
    "                return True\n",
    "\n",
    "            # Define the four possible directions to move: right, left, down, and up\n",
    "            directions = [(0, 1), (0, -1), (1, 0), (-1, 0)]\n",
    "\n",
    "            # Loop through each direction and try to explore in that direction\n",
    "            for dx, dy in directions:\n",
    "                nx, ny = x, y\n",
    "                # Explore in a direction until we hit a wall (maze[nx+dx][ny+dy] == 1)\n",
    "                while 0 <= nx + dx < rows and 0 <= ny + dy < columns and maze[nx + dx][ny + dy] == 0:\n",
    "                    nx += dx\n",
    "                    ny += dy\n",
    "\n",
    "                # Recursively check if we can reach the destination from the new position (nx, ny)\n",
    "                if dfs(nx, ny):\n",
    "                    return True\n",
    "\n",
    "            # If no valid path is found from the current position, return False\n",
    "            return False\n",
    "\n",
    "        # Start DFS from the given start point and return the result\n",
    "        return dfs(start[0], start[1])\n"
   ]
  }
 ],
 "metadata": {
  "kernelspec": {
   "display_name": "Python 3 (ipykernel)",
   "language": "python",
   "name": "python3"
  },
  "language_info": {
   "codemirror_mode": {
    "name": "ipython",
    "version": 3
   },
   "file_extension": ".py",
   "mimetype": "text/x-python",
   "name": "python",
   "nbconvert_exporter": "python",
   "pygments_lexer": "ipython3",
   "version": "3.11.4"
  }
 },
 "nbformat": 4,
 "nbformat_minor": 5
}
